{
 "cells": [
  {
   "cell_type": "markdown",
   "metadata": {},
   "source": [
    "# Number system"
   ]
  },
  {
   "cell_type": "markdown",
   "metadata": {},
   "source": [
    "## create"
   ]
  },
  {
   "cell_type": "code",
   "execution_count": 5,
   "metadata": {},
   "outputs": [
    {
     "name": "stdout",
     "output_type": "stream",
     "text": [
      "(23+45j)\n"
     ]
    }
   ],
   "source": [
    "a = 23\n",
    "b = 23.45\n",
    "c = 23+45j\n",
    "print(c)"
   ]
  },
  {
   "cell_type": "markdown",
   "metadata": {},
   "source": [
    "### numbers are immutable\n",
    "### numbers do not follow index property"
   ]
  },
  {
   "cell_type": "code",
   "execution_count": 7,
   "metadata": {},
   "outputs": [
    {
     "ename": "TypeError",
     "evalue": "'int' object does not support item assignment",
     "output_type": "error",
     "traceback": [
      "\u001b[1;31m---------------------------------------------------------------------------\u001b[0m",
      "\u001b[1;31mTypeError\u001b[0m                                 Traceback (most recent call last)",
      "\u001b[1;32m<ipython-input-7-8986122c63e5>\u001b[0m in \u001b[0;36m<module>\u001b[1;34m()\u001b[0m\n\u001b[1;32m----> 1\u001b[1;33m \u001b[0ma\u001b[0m\u001b[1;33m[\u001b[0m\u001b[1;36m1\u001b[0m\u001b[1;33m]\u001b[0m \u001b[1;33m=\u001b[0m \u001b[1;36m32\u001b[0m\u001b[1;33m\u001b[0m\u001b[0m\n\u001b[0m",
      "\u001b[1;31mTypeError\u001b[0m: 'int' object does not support item assignment"
     ]
    }
   ],
   "source": [
    "a[1] = 32"
   ]
  },
  {
   "cell_type": "code",
   "execution_count": 8,
   "metadata": {},
   "outputs": [],
   "source": [
    "# delete\n",
    "del a,b,c"
   ]
  },
  {
   "cell_type": "code",
   "execution_count": 9,
   "metadata": {},
   "outputs": [
    {
     "ename": "NameError",
     "evalue": "name 'a' is not defined",
     "output_type": "error",
     "traceback": [
      "\u001b[1;31m---------------------------------------------------------------------------\u001b[0m",
      "\u001b[1;31mNameError\u001b[0m                                 Traceback (most recent call last)",
      "\u001b[1;32m<ipython-input-9-bca0e2660b9f>\u001b[0m in \u001b[0;36m<module>\u001b[1;34m()\u001b[0m\n\u001b[1;32m----> 1\u001b[1;33m \u001b[0mprint\u001b[0m\u001b[1;33m(\u001b[0m\u001b[0ma\u001b[0m\u001b[1;33m)\u001b[0m\u001b[1;33m\u001b[0m\u001b[0m\n\u001b[0m",
      "\u001b[1;31mNameError\u001b[0m: name 'a' is not defined"
     ]
    }
   ],
   "source": [
    "print(a)"
   ]
  },
  {
   "cell_type": "markdown",
   "metadata": {},
   "source": [
    "## functions and methods"
   ]
  },
  {
   "cell_type": "code",
   "execution_count": 11,
   "metadata": {},
   "outputs": [
    {
     "name": "stdout",
     "output_type": "stream",
     "text": [
      "23.45\n",
      "25\n"
     ]
    }
   ],
   "source": [
    "a = -23.45\n",
    "b = -25\n",
    "\n",
    "print(abs(a))\n",
    "print(abs(b))"
   ]
  },
  {
   "cell_type": "code",
   "execution_count": 13,
   "metadata": {},
   "outputs": [
    {
     "name": "stdout",
     "output_type": "stream",
     "text": [
      "23.45\n",
      "25.0\n"
     ]
    }
   ],
   "source": [
    "import math as m\n",
    "a = -23.45\n",
    "b = 25\n",
    "print(m.fabs(a))\n",
    "print(m.fabs(b))"
   ]
  },
  {
   "cell_type": "code",
   "execution_count": 18,
   "metadata": {},
   "outputs": [
    {
     "name": "stdout",
     "output_type": "stream",
     "text": [
      "24\n",
      "23\n",
      "23\n",
      "45\n",
      "23.3\n",
      "23.346\n",
      "23.35\n",
      "3.150408529527621\n",
      "1.3682050401147836\n",
      "13767822451.004257\n"
     ]
    }
   ],
   "source": [
    "a = 23.3456\n",
    "b = 23.57\n",
    "c = 44.89\n",
    "\n",
    "print(m.ceil(a))\n",
    "print(m.floor(a))\n",
    "\n",
    "print(round(a))  # works like normal round off\n",
    "print(round(c))\n",
    "\n",
    "# rounding off upto a particular float\n",
    "print(round(a,1))\n",
    "print(round(a,3))\n",
    "print(round(a,2))\n",
    "\n",
    "# finding log of a number\n",
    "print(m.log(a))  # base e\n",
    "print(m.log10(a)) # base 10\n",
    "print(m.exp(a))  # it's an antilog of base e"
   ]
  },
  {
   "cell_type": "markdown",
   "metadata": {},
   "source": [
    "## max(),min() len()"
   ]
  },
  {
   "cell_type": "code",
   "execution_count": 22,
   "metadata": {},
   "outputs": [
    {
     "name": "stdout",
     "output_type": "stream",
     "text": [
      "45\n",
      "25\n",
      "6\n"
     ]
    }
   ],
   "source": [
    "a = 25\n",
    "b = 35\n",
    "c = 45\n",
    "print(max(a,b,c))\n",
    "print(min(a,b,c))\n",
    "\n",
    "string = \"python\"\n",
    "print(len(string))\n"
   ]
  },
  {
   "cell_type": "markdown",
   "metadata": {},
   "source": [
    "## modf"
   ]
  },
  {
   "cell_type": "code",
   "execution_count": 26,
   "metadata": {},
   "outputs": [
    {
     "name": "stdout",
     "output_type": "stream",
     "text": [
      "(0.4559999999999995, 23.0)\n",
      "(0.5680000000000014, 23.0)\n"
     ]
    }
   ],
   "source": [
    "a = 23.456\n",
    "b = 23.568\n",
    "print(m.modf(a))\n",
    "\n",
    "print(m.modf(b))"
   ]
  },
  {
   "cell_type": "markdown",
   "metadata": {},
   "source": [
    "## random package"
   ]
  },
  {
   "cell_type": "code",
   "execution_count": 34,
   "metadata": {},
   "outputs": [
    {
     "name": "stdout",
     "output_type": "stream",
     "text": [
      "w\n",
      "7\n"
     ]
    }
   ],
   "source": [
    "import random as r\n",
    "print(r.choice(\"hello world\")) # returns any random character from sequence\n",
    "\n",
    "print(r.choice(list(range(2,20))))"
   ]
  },
  {
   "cell_type": "markdown",
   "metadata": {},
   "source": [
    "### generating a capcha"
   ]
  },
  {
   "cell_type": "code",
   "execution_count": 5,
   "metadata": {},
   "outputs": [
    {
     "name": "stdout",
     "output_type": "stream",
     "text": [
      "ollow\n"
     ]
    }
   ],
   "source": [
    "import random as r\n",
    "a = \"helloworld\"\n",
    "cap = \"\"\n",
    "size = 5\n",
    "for x in range(size):\n",
    "    cap = cap + r.choice(a)\n",
    "print(cap)"
   ]
  },
  {
   "cell_type": "markdown",
   "metadata": {},
   "source": []
  },
  {
   "cell_type": "code",
   "execution_count": 89,
   "metadata": {},
   "outputs": [
    {
     "name": "stdout",
     "output_type": "stream",
     "text": [
      "0.8313363515915134\n"
     ]
    }
   ],
   "source": [
    "print(r.random())"
   ]
  },
  {
   "cell_type": "code",
   "execution_count": 94,
   "metadata": {},
   "outputs": [
    {
     "name": "stdout",
     "output_type": "stream",
     "text": [
      "25.15346803502171\n"
     ]
    }
   ],
   "source": [
    "print(r.uniform(20,30))"
   ]
  },
  {
   "cell_type": "code",
   "execution_count": 107,
   "metadata": {},
   "outputs": [
    {
     "name": "stdout",
     "output_type": "stream",
     "text": [
      "54\n"
     ]
    }
   ],
   "source": [
    "print(r.randrange(0,100,2))\n",
    "# randrange(start,end,jump)"
   ]
  },
  {
   "cell_type": "code",
   "execution_count": 109,
   "metadata": {},
   "outputs": [
    {
     "name": "stdout",
     "output_type": "stream",
     "text": [
      "[1, 2, 3, 4, 5, 6, 7, 8, 9]\n",
      "[1, 2, 3, 4, 5, 6, 7, 8, 9]\n"
     ]
    }
   ],
   "source": [
    "l = [x for x in range(1,10)]  # time complexity is more\n",
    "print(l)\n",
    "\n",
    "l = list(range(1,10))   # time complexity is less\n",
    "print(l)"
   ]
  },
  {
   "cell_type": "code",
   "execution_count": 113,
   "metadata": {},
   "outputs": [
    {
     "name": "stdout",
     "output_type": "stream",
     "text": [
      "None\n",
      "[2, 0, 8, 3, 6, 7, 1, 5, 4]\n"
     ]
    }
   ],
   "source": [
    "l = list(range(0,9))\n",
    "\n",
    "print(r.shuffle(l))  # since list is mutable hence it does not returns anything and hence o/p is None\n",
    "# it directly acess the source list\n",
    "\n",
    "print(l)\n"
   ]
  },
  {
   "cell_type": "markdown",
   "metadata": {},
   "source": [
    "### code for dice"
   ]
  },
  {
   "cell_type": "code",
   "execution_count": 6,
   "metadata": {},
   "outputs": [
    {
     "name": "stdout",
     "output_type": "stream",
     "text": [
      "3\n"
     ]
    }
   ],
   "source": [
    "import random as r\n",
    "dice = list(range(1,7))\n",
    "r.shuffle(dice)  # to increase the level of difficulty or randomness\n",
    "print(r.choice(dice))"
   ]
  },
  {
   "cell_type": "markdown",
   "metadata": {},
   "source": [
    "## seed"
   ]
  },
  {
   "cell_type": "code",
   "execution_count": 139,
   "metadata": {},
   "outputs": [
    {
     "name": "stdout",
     "output_type": "stream",
     "text": [
      "0.5714025946899135\n"
     ]
    }
   ],
   "source": [
    "import random as r\n",
    "r.seed(10) # generates a hash value \n",
    "print(r.random())"
   ]
  },
  {
   "cell_type": "code",
   "execution_count": null,
   "metadata": {},
   "outputs": [],
   "source": []
  },
  {
   "cell_type": "markdown",
   "metadata": {},
   "source": [
    "### working with string"
   ]
  },
  {
   "cell_type": "code",
   "execution_count": 175,
   "metadata": {},
   "outputs": [
    {
     "name": "stdout",
     "output_type": "stream",
     "text": [
      "hello_world\n",
      "ello\n",
      "el_\n",
      "el_ol\n",
      "hlow\n",
      "hello_world\n",
      "hlwl\n",
      "_oll\n",
      "dlrow_olleh\n",
      "lo_le\n",
      "dlrow_o\n",
      "world\n",
      "hello_world\n",
      "llo_wor\n",
      "\n",
      "llo_wor\n",
      "lo_le\n",
      "lrow_oll\n",
      "dlrow_olleh\n",
      "hello_Python\n",
      "hello_world\n"
     ]
    }
   ],
   "source": [
    "# create a string\n",
    "a = \"hello_world\"\n",
    "print(a)\n",
    "\n",
    "# READ \n",
    "# slicing is similar to range\n",
    "# positive direction [start:stop:positive_jump] start<stop\n",
    "\n",
    "# negative direction[start:stop:negative_jump]  start > stop\n",
    "\n",
    "print(a[1:5])\n",
    "print(a[1:7:2])\n",
    "print(a[1::2]) # if end is not specified then it will scan entire string\n",
    "print(a[:7:2])\n",
    "print(a[::])\n",
    "print(a[::3])\n",
    "\n",
    "# reverse direction\n",
    "print(a[5:1:-1])\n",
    "print(a[::-1])\n",
    "print(a[9::-2])\n",
    "print(a[:3:-1]) #if jump is negative then start is always > end\n",
    "print(a[len(a)-5:len(a)])\n",
    "print(a)\n",
    "\n",
    "print(a[-9:-2])\n",
    "print(a[-2:-9]) # empty string as start > end with positive jump\n",
    "print(a[-9:9])\n",
    "print(a[-2::-2])\n",
    "print(a[-2:1:-1])\n",
    "print(a[-1:-16:-1])\n",
    "\n",
    "# update \n",
    "# cannot update a string\n",
    "print(a[:6]+\"Python\")\n",
    "print(a)\n",
    "\n",
    "# delete\n",
    "del a"
   ]
  },
  {
   "cell_type": "markdown",
   "metadata": {},
   "source": [
    "### functions and method"
   ]
  },
  {
   "cell_type": "code",
   "execution_count": 178,
   "metadata": {},
   "outputs": [
    {
     "name": "stdout",
     "output_type": "stream",
     "text": [
      "HELLO_WORLD\n",
      "hello_world\n",
      "HELLO_world\n",
      "False\n",
      "False\n"
     ]
    }
   ],
   "source": [
    "a = \"hello_WORLD\"\n",
    "print(a.upper())\n",
    "print(a.lower())\n",
    "print(a.swapcase())\n",
    "print(a.isupper())\n",
    "print(a.islower())"
   ]
  },
  {
   "cell_type": "markdown",
   "metadata": {},
   "source": [
    "## design part"
   ]
  },
  {
   "cell_type": "code",
   "execution_count": 183,
   "metadata": {},
   "outputs": [
    {
     "name": "stdout",
     "output_type": "stream",
     "text": [
      "****hello_WORLD*****\n",
      "*********hello_WORLD\n",
      "hello_WORLD*********\n"
     ]
    }
   ],
   "source": [
    "print(a.center(20,\"*\"))\n",
    "print(a.rjust(20,\"*\"))\n",
    "print(a.ljust(20,\"*\"))"
   ]
  },
  {
   "cell_type": "markdown",
   "metadata": {},
   "source": [
    "### prefix and suffix"
   ]
  },
  {
   "cell_type": "code",
   "execution_count": 187,
   "metadata": {},
   "outputs": [
    {
     "name": "stdout",
     "output_type": "stream",
     "text": [
      "True\n",
      "True\n",
      "False\n",
      "False\n",
      "False\n",
      "False\n"
     ]
    }
   ],
   "source": [
    "print(a.startswith(\"h\"))\n",
    "print(a.startswith(\"hello\"))\n",
    "print(a.startswith(\"Hello\"))\n",
    "\n",
    "print(a.endswith(\"d\"))\n",
    "print(a.endswith(\"world\"))\n",
    "print(a.endswith(\"World\"))"
   ]
  },
  {
   "cell_type": "markdown",
   "metadata": {},
   "source": [
    "### operations"
   ]
  },
  {
   "cell_type": "code",
   "execution_count": 196,
   "metadata": {},
   "outputs": [
    {
     "name": "stdout",
     "output_type": "stream",
     "text": [
      "-1\n",
      "6\n",
      "hello_Python\n",
      "hezzo_world\n",
      "hezzo_worzd\n",
      "3\n",
      "11\n"
     ]
    }
   ],
   "source": [
    "a = \"hello_world\"\n",
    "print(a.find(\"World\"))\n",
    "\n",
    "print(a.index(\"world\"))\n",
    "print(a.replace(\"world\",\"Python\"))\n",
    "print(a.replace(\"l\",\"z\",2))\n",
    "print(a.replace(\"l\",\"z\"))\n",
    "\n",
    "print(a.count(\"l\"))\n",
    "print(len(a))  # returns a length of string"
   ]
  },
  {
   "cell_type": "code",
   "execution_count": 201,
   "metadata": {},
   "outputs": [
    {
     "name": "stdout",
     "output_type": "stream",
     "text": [
      "hello world\n",
      "hello world    \n",
      "  hello world\n"
     ]
    }
   ],
   "source": [
    "a = \"  hello world    \"\n",
    "print(a.strip())\n",
    "print(a.lstrip())\n",
    "print(a.rstrip())"
   ]
  },
  {
   "cell_type": "code",
   "execution_count": 213,
   "metadata": {},
   "outputs": [
    {
     "name": "stdout",
     "output_type": "stream",
     "text": [
      "['hello', 'world']\n",
      "['hello', 'world']\n",
      "hello--world\n",
      "True\n",
      "False\n",
      "True\n",
      "4\n"
     ]
    }
   ],
   "source": [
    "a = \"hello world\"\n",
    "print(a.split(\" \"))\n",
    "data = a.split(\" \")\n",
    "print(data)\n",
    "print(\"--\".join(data))\n",
    "\n",
    "b = \"       \"\n",
    "print(b.isspace())\n",
    "b = \"1234abc\" # alphanumeric\n",
    "print(b.isdigit())\n",
    "print(b.isalnum()) # alnum = alpha numeric\n",
    "b = \"    \"\n",
    "print(b.count(\" \"))"
   ]
  },
  {
   "cell_type": "code",
   "execution_count": 222,
   "metadata": {},
   "outputs": [
    {
     "name": "stdout",
     "output_type": "stream",
     "text": [
      "Enter your phone no.1234567890\n",
      "******7890\n",
      "******7890\n"
     ]
    }
   ],
   "source": [
    "# assignment\n",
    "# take ten digit no. \n",
    "# output= ******0286\n",
    "\n",
    "number = input(\"Enter your phone no.\")\n",
    "rep = number[6::]\n",
    "print(\"******\"+rep)\n",
    "\n",
    "# sir's method\n",
    "print(number[6:].rjust(len(number),\"*\"))"
   ]
  },
  {
   "cell_type": "code",
   "execution_count": 242,
   "metadata": {},
   "outputs": [
    {
     "name": "stdout",
     "output_type": "stream",
     "text": [
      "[1, 2, 3, 4, 5, 6, 7, 8, 9]\n",
      "[1, 2, 3, 4, 5, 6, 7, 8, 9]\n",
      "9\n",
      "[9, 8, 7, 6, 5, 4]\n",
      "[]\n",
      "[1, 'red', 'green', 6, 7, 8, 9]\n",
      "[1, 6, 7, 8, 9]\n",
      "[1, ['red', 'green'], 7, 8, 9]\n",
      "[1, 7, 8, 9]\n"
     ]
    }
   ],
   "source": [
    "# CRUD on list\n",
    "\n",
    "list1 = list(range(1,10))\n",
    "list2 = [x for x in range(1,10)]\n",
    "\n",
    "# read\n",
    "print(list1)\n",
    "print(list2)\n",
    "print(list1[::-1][::1][::2][::3][0])  # chaining ek ke upar ek\n",
    "print(list1[9:2:-1])\n",
    "\n",
    "print(list1[1::1][2::2][3::3])\n",
    "\n",
    "# update\n",
    "\n",
    "# override\n",
    "#list1[2] = \"red\"\n",
    "#print(list1)\n",
    "\n",
    "#list1[2] = [\"red\",\"green\"]\n",
    "#print(list1)\n",
    "\n",
    "#list1[2:3]=[\"red\",\"green\"]\n",
    "#print(list1)\n",
    "\n",
    "#list1[1:3]=['red','green','black']\n",
    "# jitna index will be overriden by respective no of data\n",
    "# if index is over bt data is still availabel then it will insert data and shift all the elements in list\n",
    "#print(list1)\n",
    "\n",
    "list1[1:5] = ['red','green']  # it will clip index 3 ,4\n",
    "print(list1)\n",
    "\n",
    "# deleting an element\n",
    "del list1[1:3]\n",
    "print(list1)\n",
    "\n",
    "list1[1] = ['red','green']\n",
    "print(list1)\n",
    "del list1[1]\n",
    "print(list1)"
   ]
  },
  {
   "cell_type": "code",
   "execution_count": 260,
   "metadata": {},
   "outputs": [
    {
     "name": "stdout",
     "output_type": "stream",
     "text": [
      "[1, 2, 3, 4, 5, 6, 7, 8, 9]\n",
      "[1, 2, 3, 4, 5, 6, 7, 8, 9, 'apple']\n",
      "1\n",
      "1\n",
      "apple\n",
      "[1, 2, 3, 4, 5, 6, 7, 8, 9]\n",
      "[1, 2, 'red', 3, 4, 5, 6, 7, 8, 9]\n",
      "[1, 2, 3, 4, 5, 6, 7, 8, 9]\n",
      "[1, 2, 3, 4, 5, 6, 7, 8, 9, 'red', 'blue', 'green']\n",
      "[0, 1, 2, 3, 4, 10]\n",
      "[10, 4, 3, 2, 1, 0]\n"
     ]
    }
   ],
   "source": [
    "list1 = list(range(1,10))\n",
    "print(list1)\n",
    "list1.append(\"apple\")\n",
    "print(list1)\n",
    "\n",
    "print(list1.count(\"apple\"))\n",
    "print(list1.count(1))\n",
    "\n",
    "print(list1.pop())\n",
    "print(list1)\n",
    "\n",
    "list1.insert(2,\"red\")\n",
    "print(list1)\n",
    "\n",
    "list1.remove(\"red\")\n",
    "print(list1)\n",
    "\n",
    "list2 = ['red','blue','green']\n",
    "list1.extend(list2)\n",
    "print(list1)\n",
    "\n",
    "list1 = [1,2,3,4,10,0]\n",
    "# sorting in ascending order\n",
    "list1.sort()\n",
    "print(list1)\n",
    "\n",
    "# sorting in descending order\n",
    "list1.sort(reverse=True) # default parameter is false\n",
    "print(list1)"
   ]
  },
  {
   "cell_type": "markdown",
   "metadata": {},
   "source": [
    "## working with dictionary"
   ]
  },
  {
   "cell_type": "code",
   "execution_count": 266,
   "metadata": {},
   "outputs": [
    {
     "name": "stdout",
     "output_type": "stream",
     "text": [
      "Enter name : Ashutosh\n",
      "Enter div : BE\n",
      "Enter roll no : 18\n",
      "{'name': 'Ashutosh', 'std': 'BE', 'roll_no': '18', 'courses': ['java', 'Python'], 'address': {'landmark': 'lalbaug', 'pincode': '400033'}}\n"
     ]
    }
   ],
   "source": [
    "# CRUD on dictionary\n",
    "\n",
    "# creating a dictionary\n",
    "\n",
    "dict1 = {\n",
    "    'name':input(\"Enter name : \"),\n",
    "    'std':input(\"Enter div : \"),\n",
    "    'roll_no':input(\"Enter roll no : \"),\n",
    "    'courses':['java','Python'],\n",
    "    'address':{\n",
    "        'landmark':'lalbaug',\n",
    "        'pincode':'400033'\n",
    "    }\n",
    "}\n",
    "\n",
    "print(dict1)\n",
    "\n"
   ]
  },
  {
   "cell_type": "code",
   "execution_count": 280,
   "metadata": {},
   "outputs": [
    {
     "name": "stdout",
     "output_type": "stream",
     "text": [
      "BE\n",
      "{'name': 'Rajesh', 'std': 'BE', 'roll': 18}\n",
      "{'std': 'BE', 'roll': 18}\n"
     ]
    }
   ],
   "source": [
    "# reading dictionary\n",
    "#print(dict1['courses'][1])\n",
    "print(dict1['std'])\n",
    "dict1['name']=\"Rajesh\"\n",
    "print(dict1)\n",
    "# deleting from dictionary\n",
    "\n",
    "del dict1['name']\n",
    "print(dict1)\n",
    "\n",
    "# clear()\n",
    "#dict1.clear()\n",
    "#print(dict1)\n"
   ]
  },
  {
   "cell_type": "code",
   "execution_count": 279,
   "metadata": {},
   "outputs": [
    {
     "name": "stdout",
     "output_type": "stream",
     "text": [
      "{'name': 'Dhondkar', 'std': 'BE', 'roll': 18}\n",
      "{'name': 'Dhondkar', 'std': 'BE', 'roll': 18}\n",
      "{'name': 'Ashutosh', 'std': 'BE', 'roll': 18}\n"
     ]
    }
   ],
   "source": [
    "# copy()\n",
    "dict1={'name':'Ashutosh','std':'BE','roll':18}\n",
    "dict2 = dict1\n",
    "dict3 = dict1.copy()\n",
    "\n",
    "dict1['name']='Dhondkar'\n",
    "print(dict1)\n",
    "print(dict2)\n",
    "print(dict3)\n",
    "# here as we have referenced dict2 = dict1 ;updates in dict1 will also be updated in dict2\n",
    "# but dict.copy() returns a dictionary who does not get updated even if original dictionary is changes later on"
   ]
  },
  {
   "cell_type": "code",
   "execution_count": 294,
   "metadata": {},
   "outputs": [
    {
     "name": "stdout",
     "output_type": "stream",
     "text": [
      "{'name': 'NA', 'std': 'NA', 'roll_no': 'NA', 'address': 'NA'}\n",
      "True\n",
      "Ashutosh\n",
      "Ashutosh\n",
      "None\n",
      "{'name': 'Ashutosh', 'std': 'BE', 'roll': 18, 'address': None}\n",
      "None\n",
      "{'std': 'BE', 'roll': 18, 'mob': '12345678', 'address': 'Thane'}\n",
      "dict_keys(['std', 'roll', 'mob', 'address'])\n",
      "dict_values(['BE', 18, '12345678', 'Thane'])\n",
      "dict_items([('std', 'BE'), ('roll', 18), ('mob', '12345678'), ('address', 'Thane')])\n"
     ]
    }
   ],
   "source": [
    "# fromkeys()\n",
    "list1 = [\"name\",\"std\",\"roll_no\",\"address\"]\n",
    "print({}.fromkeys(list1,\"NA\"))\n",
    "\n",
    "print(dict3.__contains__('name'))\n",
    "\n",
    "# using get()\n",
    "print(dict3.get('name'))\n",
    "\n",
    "# using setdefault()\n",
    "print(dict3.setdefault('name'))\n",
    "print(dict3.setdefault('address'))\n",
    "print(dict3)\n",
    "\n",
    "# working with update()\n",
    "dict2 = {'mob':'12345678','address':'Thane'}\n",
    "print(dict1.update(dict2)) # returns None hence None is printed\n",
    "print(dict1)\n",
    "\n",
    "# working with keys\n",
    "print(dict1.keys())\n",
    "print(dict1.values())\n",
    "print(dict1.items())"
   ]
  },
  {
   "cell_type": "markdown",
   "metadata": {},
   "source": [
    "### Tuples"
   ]
  },
  {
   "cell_type": "code",
   "execution_count": 302,
   "metadata": {},
   "outputs": [
    {
     "name": "stdout",
     "output_type": "stream",
     "text": [
      "(1, 2, 3, 4, 5) (1,)\n",
      "<class 'tuple'>\n",
      "<class 'tuple'>\n",
      "(3, 4, 5)\n"
     ]
    },
    {
     "data": {
      "text/plain": [
       "1"
      ]
     },
     "execution_count": 302,
     "metadata": {},
     "output_type": "execute_result"
    }
   ],
   "source": [
    "list1 = [1,2,3,4,5]\n",
    "a = (1,2,3,4,5)\n",
    "b = (1,) # single element tuple is always comma separated ALWAYS\n",
    "print(a,b)\n",
    "print(type(a))\n",
    "print(type(b))\n",
    "print(a.index(1))\n",
    "print(a[2:5])\n",
    "print(a.count(1))\n"
   ]
  },
  {
   "cell_type": "code",
   "execution_count": 2,
   "metadata": {},
   "outputs": [
    {
     "name": "stdout",
     "output_type": "stream",
     "text": [
      "Enter paragraph : hello world\n",
      "1: print para\n",
      "2: search\n",
      "3: replace\n",
      "4: recent search\n",
      "5: recent replace\n",
      "6: exit\n",
      "Enter your choice : 1\n",
      "hello world\n",
      "1: print para\n",
      "2: search\n",
      "3: replace\n",
      "4: recent search\n",
      "5: recent replace\n",
      "6: exit\n",
      "Enter your choice : 2\n",
      "Enter word to be searched : world\n",
      "The word is found at position 7\n",
      "1: print para\n",
      "2: search\n",
      "3: replace\n",
      "4: recent search\n",
      "5: recent replace\n",
      "6: exit\n",
      "Enter your choice : 2\n",
      "Enter word to be searched : ld\n",
      "The word is found at position 10\n",
      "1: print para\n",
      "2: search\n",
      "3: replace\n",
      "4: recent search\n",
      "5: recent replace\n",
      "6: exit\n",
      "Enter your choice : 4\n",
      "['ld', 'world']\n",
      "1: print para\n",
      "2: search\n",
      "3: replace\n",
      "4: recent search\n",
      "5: recent replace\n",
      "6: exit\n",
      "Enter your choice : 3\n",
      "Enter old word : world\n",
      "Enter new word : Python\n",
      "hello Python\n",
      "1: print para\n",
      "2: search\n",
      "3: replace\n",
      "4: recent search\n",
      "5: recent replace\n",
      "6: exit\n",
      "Enter your choice : 3\n",
      "Enter old word : Python\n",
      "Enter new word : Universe\n",
      "hello Universe\n",
      "1: print para\n",
      "2: search\n",
      "3: replace\n",
      "4: recent search\n",
      "5: recent replace\n",
      "6: exit\n",
      "Enter your choice : 5\n",
      "you replaced 'world' with 'Python'\n",
      "you replaced 'Python' with 'Universe'\n",
      "1: print para\n",
      "2: search\n",
      "3: replace\n",
      "4: recent search\n",
      "5: recent replace\n",
      "6: exit\n",
      "Enter your choice : 6\n",
      "Thank You\n"
     ]
    }
   ],
   "source": [
    "# menu driven\n",
    "# enter a paragraph and 4 options\n",
    "#1: print para\n",
    "#2:search\n",
    "#3:replace\n",
    "#4: recent search\n",
    "#5: recent replace dict{old:new}\n",
    "#6: exit\n",
    "\n",
    "para = input(\"Enter paragraph : \")\n",
    "search = []\n",
    "rep_dict = {}\n",
    "while(True):\n",
    "    print(\"1: print para\")\n",
    "    print(\"2: search\")\n",
    "    print(\"3: replace\")\n",
    "    print(\"4: recent search\")\n",
    "    print(\"5: recent replace\")\n",
    "    print(\"6: exit\")\n",
    "    ch = int(input(\"Enter your choice : \"))\n",
    "    if(ch == 1):\n",
    "        print(para)\n",
    "    elif(ch == 2):\n",
    "        word = input(\"Enter word to be searched : \")\n",
    "        search.append(word)\n",
    "        pos = para.find(word)\n",
    "        if(pos!=-1):\n",
    "            print(f\"The word is found at position {pos+1}\")\n",
    "        else:\n",
    "            print(\"The word is not found\")\n",
    "    elif(ch==3):\n",
    "        old = input(\"Enter old word : \")\n",
    "        new = input(\"Enter new word : \")\n",
    "        for x in range(para.count(old)):\n",
    "            para = para.replace(old,new)\n",
    "        #rep_dict = {old:new}\n",
    "        rep_dict[old] = new\n",
    "        print(para)\n",
    "    elif(ch==4):\n",
    "        print(search[::-1])\n",
    "    elif(ch==5):\n",
    "        for key,value in list(rep_dict.items()):\n",
    "            print(f\"you replaced '{key}' with '{value}'\")\n",
    "    else:\n",
    "        print(\"Thank You\")\n",
    "        break"
   ]
  },
  {
   "cell_type": "code",
   "execution_count": 3,
   "metadata": {},
   "outputs": [
    {
     "name": "stdout",
     "output_type": "stream",
     "text": [
      "****************welcome to lottery****************\n",
      "Enter your name : ashutosh\n",
      "Enter your age : 20\n",
      "Lottery number is 495\n",
      "The amount is : Rs. 1\n",
      "Press Y to continue :y\n",
      "****************welcome to lottery****************\n",
      "Enter your name : neha\n",
      "Enter your age : 45\n",
      "Lottery number is 40\n",
      "The amount is : 50 lakhs\n",
      "Press Y to continue :n\n"
     ]
    }
   ],
   "source": [
    "# lottery system\n",
    "# menu driven\n",
    "# enter your name: Lokesh # shuffle name if same name is encounter and then set it as seed\n",
    "# enter contact no. : 1234567890\n",
    "# enter age : 24 (if age<18 don't allow)\n",
    "# set name as seed\n",
    "# generate a token between(1,1000) use randrange(1,1000)\n",
    "# if(token is between 1 and 20 prize = 1cr)\n",
    "# if(token is between 21 and 40 prize = 50 lac)\n",
    "# if(token is between 41 and 60 prize = 30 lac)\n",
    "# if(token is between 61 to 80 prize = 10 lac)\n",
    "# if(token is between 81 to 100 prize = 1 lac)\n",
    "# if(token>101 prize = 10 rs.)\n",
    "\n",
    "import random as r\n",
    "while(True):\n",
    "    print(\"welcome to lottery\".center(50,'*'))\n",
    "    name = list(input(\"Enter your name : \"))\n",
    "    age = int(input(\"Enter your age : \"))\n",
    "    if(age<18):\n",
    "        print(f\"You will be allowed after {18-age} year(s)\")\n",
    "    else:\n",
    "        r.shuffle(name)\n",
    "        r.seed(''.join(name))\n",
    "        l_number = r.randrange(1,1000)\n",
    "        print(f\"Lottery number is {l_number}\")\n",
    "        if(l_number>=1 and l_number<=20):\n",
    "            print(f\"The amount is : 1 cr. \")\n",
    "        elif(l_number>=21 and l_number<=40):\n",
    "            print(f\"The amount is : 50 lakhs\")\n",
    "        elif(l_number>=41 and l_number<=60):\n",
    "            print(f\"The amount is : 30 lakhs\")\n",
    "        elif(l_number>=61 and l_number<=80):\n",
    "            print(f\"The amount is : 10 lakhs\")\n",
    "        elif(l_number>=81 and l_number<=100):\n",
    "            print(f\"The amount is : 1 lakhs\")\n",
    "        else:\n",
    "            print(f\"The amount is : Rs. 1\")\n",
    "        ch = input(\"Press Y to continue :\")\n",
    "        if(ch=='Y' or ch=='y'):\n",
    "            continue\n",
    "        else:\n",
    "            break"
   ]
  },
  {
   "cell_type": "markdown",
   "metadata": {},
   "source": [
    "### working with set"
   ]
  },
  {
   "cell_type": "code",
   "execution_count": 317,
   "metadata": {},
   "outputs": [
    {
     "name": "stdout",
     "output_type": "stream",
     "text": [
      "{3, 34, 67, 4}\n",
      "{1, 2, 67, 3, 4}\n",
      "{1, 2}\n",
      "False\n",
      "False\n",
      "True\n",
      "{33, 67, 3, 5, 22, 4, 44}\n",
      "{67, 3, 4, 33, 5, 44, 22}\n"
     ]
    }
   ],
   "source": [
    "set1= {1,2,3,4,67,34}\n",
    "set2 = {22,33,44,2,1,5}\n",
    "print(set1.difference(set2)) # returns all elements which are not present in set2\n",
    "\n",
    "#set is also mutable data type\n",
    "set1.discard(34)\n",
    "\n",
    "print(set1)\n",
    "print(set1.intersection(set2))\n",
    "\n",
    "print(set1.isdisjoint(set2))\n",
    "\n",
    "print(set1.issubset(set2))\n",
    "\n",
    "print(set1.issubset(set1.union(set2)))\n",
    "\n",
    "#print(set1.intersection_update(set2)) # return None\n",
    "#print(set1)\n",
    "\n",
    "#print(set1.union(set2).issuperset(set2))\n",
    "\n",
    "print(set1.symmetric_difference(set2))\n",
    "set1.symmetric_difference_update(set2)\n",
    "print(set1)"
   ]
  }
 ],
 "metadata": {
  "kernelspec": {
   "display_name": "Python 3",
   "language": "python",
   "name": "python3"
  },
  "language_info": {
   "codemirror_mode": {
    "name": "ipython",
    "version": 3
   },
   "file_extension": ".py",
   "mimetype": "text/x-python",
   "name": "python",
   "nbconvert_exporter": "python",
   "pygments_lexer": "ipython3",
   "version": "3.6.5"
  }
 },
 "nbformat": 4,
 "nbformat_minor": 2
}
