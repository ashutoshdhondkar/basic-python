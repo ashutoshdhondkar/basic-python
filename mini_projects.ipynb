{
 "cells": [
  {
   "cell_type": "markdown",
   "metadata": {},
   "source": [
    "## Find PI to the Nth Digit - Enter a number and have the program generate π (pi) up to that many decimal places. Keep a limit to how far the program will go."
   ]
  },
  {
   "cell_type": "code",
   "execution_count": 13,
   "metadata": {},
   "outputs": [
    {
     "name": "stdout",
     "output_type": "stream",
     "text": [
      "Enter precision number only upto 15: 12\n",
      "The value of pi upto 12 precision is : 3.14159265359\n"
     ]
    }
   ],
   "source": [
    "import numpy as np\n",
    "n = int(input(\"Enter precision number only upto 15: \"))\n",
    "if(n<=15):\n",
    "    print(f\"The value of pi upto {n} precision is : {round(np.pi,n)}\")\n",
    "else:\n",
    "    print(\"XXX precision out of scope XXX\")"
   ]
  },
  {
   "cell_type": "markdown",
   "metadata": {},
   "source": [
    "## Find e to the Nth Digit - Just like the previous problem, but with e instead of π (pi). Enter a number and have the program generate e up to that many decimal places. Keep a limit to how far the program will go."
   ]
  },
  {
   "cell_type": "code",
   "execution_count": 19,
   "metadata": {},
   "outputs": [
    {
     "name": "stdout",
     "output_type": "stream",
     "text": [
      "Enter precision number only upto 15 : 2\n",
      "The value of \"e\" upto specified precision is : 2.72\n"
     ]
    }
   ],
   "source": [
    "import numpy as np\n",
    "n = int(input(\"Enter precision number only upto 15 : \"))\n",
    "if(n<=15):\n",
    "    print(f'The value of \"e\" upto specified precision is : {round(np.e,n)}')\n",
    "else:\n",
    "    print(\"XXX precision out of range XXX\")"
   ]
  },
  {
   "cell_type": "markdown",
   "metadata": {},
   "source": [
    "## Fibonacci Sequence - Enter a number and have the program generate the Fibonacci sequence to that number or to the Nth number."
   ]
  },
  {
   "cell_type": "code",
   "execution_count": 1,
   "metadata": {},
   "outputs": [
    {
     "name": "stdout",
     "output_type": "stream",
     "text": [
      "Enter n-th number to find the series : 20\n",
      "0 1 1 2 3 5 8 13 21 34 55 89 144 233 377 610 987 1597 2584 4181 "
     ]
    }
   ],
   "source": [
    "n = int(input(\"Enter n-th number to find the series : \"))\n",
    "num1 = 0 # by default first number is 0 in fibbonacci\n",
    "num2 = 1 # by default second number is 1 in fibonacci\n",
    "tot = 0\n",
    "if(n == 1):\n",
    "    print(num1)\n",
    "elif(n==2):\n",
    "    print(f\"{num1}  {num2}\")\n",
    "elif(n != 0):\n",
    "    print(num1,num2,end = ' ')\n",
    "    while(n != 2):\n",
    "        tot = num1 + num2\n",
    "        print(tot,end=' ')\n",
    "        # now swap the two numbers:\n",
    "        num1,num2 = num2,tot\n",
    "        n -= 1  # updating the value of n"
   ]
  },
  {
   "cell_type": "markdown",
   "metadata": {},
   "source": [
    "## Prime Factorization - Have the user enter a number and find all Prime Factors (if there are any) and display them."
   ]
  },
  {
   "cell_type": "code",
   "execution_count": 6,
   "metadata": {},
   "outputs": [
    {
     "name": "stdout",
     "output_type": "stream",
     "text": [
      "Enter a number : 23\n",
      "23\n"
     ]
    }
   ],
   "source": [
    "number = int(input(\"Enter a number : \"))\n",
    "i = 2 # since we know every number is divisible by 1\n",
    "while(number >1):\n",
    "    flag=0\n",
    "    if(number%i == 0):\n",
    "        number = number//i\n",
    "        for x in range(2,i):\n",
    "            if(i%x == 0):\n",
    "                flag = flag + 1\n",
    "                break\n",
    "        else:\n",
    "            print(i)\n",
    "    else:\n",
    "        i += 1"
   ]
  },
  {
   "cell_type": "markdown",
   "metadata": {},
   "source": [
    "## Next Prime Number - Have the program find prime numbers until the user chooses to stop asking for the next one."
   ]
  },
  {
   "cell_type": "code",
   "execution_count": 2,
   "metadata": {},
   "outputs": [
    {
     "name": "stdout",
     "output_type": "stream",
     "text": [
      "*** Main Menu ***\n",
      "1: Next prime number : \n",
      "2: stop\n",
      "Enter your choice : 1\n",
      "The first prime number : 2\n",
      "\n",
      "\n",
      "*** Main Menu ***\n",
      "1: Next prime number : \n",
      "2: stop\n",
      "Enter your choice : 1\n",
      "Next prime number : 3\n",
      "\n",
      "\n",
      "*** Main Menu ***\n",
      "1: Next prime number : \n",
      "2: stop\n",
      "Enter your choice : 1\n",
      "Next prime number : 5\n",
      "\n",
      "\n",
      "*** Main Menu ***\n",
      "1: Next prime number : \n",
      "2: stop\n",
      "Enter your choice : 1\n",
      "Next prime number : 7\n",
      "\n",
      "\n",
      "*** Main Menu ***\n",
      "1: Next prime number : \n",
      "2: stop\n",
      "Enter your choice : 1\n",
      "Next prime number : 11\n",
      "\n",
      "\n",
      "*** Main Menu ***\n",
      "1: Next prime number : \n",
      "2: stop\n",
      "Enter your choice : 1\n",
      "Next prime number : 13\n",
      "\n",
      "\n",
      "*** Main Menu ***\n",
      "1: Next prime number : \n",
      "2: stop\n",
      "Enter your choice : 1\n",
      "Next prime number : 17\n",
      "\n",
      "\n",
      "*** Main Menu ***\n",
      "1: Next prime number : \n",
      "2: stop\n",
      "Enter your choice : 1\n",
      "Next prime number : 19\n",
      "\n",
      "\n",
      "*** Main Menu ***\n",
      "1: Next prime number : \n",
      "2: stop\n",
      "Enter your choice : 1\n",
      "Next prime number : 23\n",
      "\n",
      "\n",
      "*** Main Menu ***\n",
      "1: Next prime number : \n",
      "2: stop\n",
      "Enter your choice : 2\n"
     ]
    }
   ],
   "source": [
    "num = 2\n",
    "while(True):\n",
    "    print(\"*** Main Menu ***\")\n",
    "    print(\"1: Next prime number : \")\n",
    "    print(\"2: stop\")\n",
    "    ch = int(input(\"Enter your choice : \"))\n",
    "    if(ch==1):\n",
    "        while(True):\n",
    "            if(num == 2):   # looking for first entry\n",
    "                print(f\"The first prime number : {num}\\n\\n\")\n",
    "                num += 1    # incrementing for finding next prime number\n",
    "                break\n",
    "            else:\n",
    "                for x in range(2,num):\n",
    "                    if(num%x == 0):\n",
    "                        num += 1\n",
    "                        break  # if break statement is not executed\n",
    "                                # it means that the no. is not prime and it\n",
    "                                # will landup in else block\n",
    "                else:\n",
    "                    print(f\"Next prime number : {num}\\n\\n\")\n",
    "                    num += 1    # incrementing for next prime number\n",
    "                    break\n",
    "    elif(ch==2):\n",
    "        break\n",
    "    else:\n",
    "        print(\"invalid choice\")\n",
    "\n",
    "    "
   ]
  },
  {
   "cell_type": "markdown",
   "metadata": {},
   "source": [
    "## Find Cost of Tile to Cover W x H Floor - Calculate the total cost of tile it would take to cover a floor plan of width and height, using a cost entered by the user."
   ]
  },
  {
   "cell_type": "code",
   "execution_count": null,
   "metadata": {},
   "outputs": [],
   "source": []
  }
 ],
 "metadata": {
  "kernelspec": {
   "display_name": "Python 3",
   "language": "python",
   "name": "python3"
  },
  "language_info": {
   "codemirror_mode": {
    "name": "ipython",
    "version": 3
   },
   "file_extension": ".py",
   "mimetype": "text/x-python",
   "name": "python",
   "nbconvert_exporter": "python",
   "pygments_lexer": "ipython3",
   "version": "3.6.5"
  }
 },
 "nbformat": 4,
 "nbformat_minor": 2
}
